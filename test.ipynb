{
 "cells": [
  {
   "cell_type": "code",
   "execution_count": 1,
   "metadata": {},
   "outputs": [],
   "source": [
    "from models import Sequential\n",
    "from layers import Dense, Input\n",
    "from sklearn.datasets import fetch_california_housing\n",
    "from sklearn.model_selection import train_test_split\n",
    "from sklearn.preprocessing import StandardScaler\n"
   ]
  },
  {
   "cell_type": "code",
   "execution_count": 2,
   "metadata": {},
   "outputs": [],
   "source": [
    "data = fetch_california_housing()\n",
    "X, y = data.data, data.target\n",
    "X_train, X_test, y_train, y_test = train_test_split(X, y, test_size=0.2, random_state=42)\n",
    "\n",
    "\n",
    "scaler = StandardScaler()\n",
    "X_train = scaler.fit_transform(X_train)\n",
    "X_test = scaler.transform(X_test)"
   ]
  },
  {
   "cell_type": "code",
   "execution_count": 3,
   "metadata": {},
   "outputs": [],
   "source": [
    "model = Sequential([\n",
    "    Input(shape=8),\n",
    "    Dense(64, activation='relu', kernel_initializer='he_normal'),\n",
    "    Dense(32, activation='relu', kernel_initializer='he_normal'),\n",
    "    Dense(16, activation='relu', kernel_initializer='he_normal'),\n",
    "    Dense(1)\n",
    "])\n",
    "\n",
    "model.compile(loss='mse', optimizer='sgd', metrics=['rmse'])"
   ]
  },
  {
   "cell_type": "code",
   "execution_count": 4,
   "metadata": {},
   "outputs": [
    {
     "name": "stdout",
     "output_type": "stream",
     "text": [
      "epoch 1/20 - time: 4.45s - rmse: 1.21369 rmse_validation: 1.14828 - loss: 1.10330 - loss_validation: 1.31235\n",
      "epoch 2/20 - time: 4.41s - rmse: 1.14729 rmse_validation: 1.14525 - loss: 1.10312 - loss_validation: 1.31221\n",
      "epoch 3/20 - time: 4.33s - rmse: 1.14467 rmse_validation: 1.14293 - loss: 1.10303 - loss_validation: 1.31217\n",
      "epoch 4/20 - time: 4.26s - rmse: 1.14261 rmse_validation: 1.14104 - loss: 1.10299 - loss_validation: 1.31216\n",
      "epoch 5/20 - time: 4.30s - rmse: 1.14088 rmse_validation: 1.13940 - loss: 1.10297 - loss_validation: 1.31216\n",
      "epoch 6/20 - time: 4.34s - rmse: 1.13934 rmse_validation: 1.13792 - loss: 1.10294 - loss_validation: 1.31219\n",
      "epoch 7/20 - time: 4.49s - rmse: 1.13793 rmse_validation: 1.13655 - loss: 1.10294 - loss_validation: 1.31222\n",
      "epoch 8/20 - time: 5.69s - rmse: 1.13666 rmse_validation: 1.13531 - loss: 1.10294 - loss_validation: 1.31225\n",
      "epoch 9/20 - time: 7.88s - rmse: 1.13550 rmse_validation: 1.13420 - loss: 1.10294 - loss_validation: 1.31228\n",
      "epoch 10/20 - time: 7.22s - rmse: 1.13444 rmse_validation: 1.13318 - loss: 1.10295 - loss_validation: 1.31231\n",
      "epoch 11/20 - time: 7.36s - rmse: 1.13350 rmse_validation: 1.13228 - loss: 1.10297 - loss_validation: 1.31235\n",
      "epoch 12/20 - time: 7.42s - rmse: 1.13268 rmse_validation: 1.13150 - loss: 1.10299 - loss_validation: 1.31237\n",
      "epoch 13/20 - time: 7.31s - rmse: 1.13197 rmse_validation: 1.13083 - loss: 1.10302 - loss_validation: 1.31240\n",
      "epoch 14/20 - time: 7.49s - rmse: 1.13136 rmse_validation: 1.13026 - loss: 1.10304 - loss_validation: 1.31242\n",
      "epoch 15/20 - time: 5.99s - rmse: 1.13085 rmse_validation: 1.12978 - loss: 1.10306 - loss_validation: 1.31244\n",
      "epoch 16/20 - time: 4.48s - rmse: 1.13041 rmse_validation: 1.12937 - loss: 1.10307 - loss_validation: 1.31246\n",
      "epoch 17/20 - time: 4.67s - rmse: 1.13003 rmse_validation: 1.12902 - loss: 1.10308 - loss_validation: 1.31247\n",
      "epoch 18/20 - time: 4.31s - rmse: 1.12972 rmse_validation: 1.12872 - loss: 1.10310 - loss_validation: 1.31248\n",
      "epoch 19/20 - time: 4.32s - rmse: 1.12944 rmse_validation: 1.12847 - loss: 1.10312 - loss_validation: 1.31249\n",
      "epoch 20/20 - time: 4.56s - rmse: 1.12921 rmse_validation: 1.12824 - loss: 1.10314 - loss_validation: 1.31250\n"
     ]
    },
    {
     "data": {
      "text/plain": [
       "<callbacks.History at 0x139fcb89640>"
      ]
     },
     "execution_count": 4,
     "metadata": {},
     "output_type": "execute_result"
    }
   ],
   "source": [
    "model.fit(X_train, y_train, epochs=20, validation_data=(X_test, y_test))"
   ]
  }
 ],
 "metadata": {
  "kernelspec": {
   "display_name": "Python 3",
   "language": "python",
   "name": "python3"
  },
  "language_info": {
   "codemirror_mode": {
    "name": "ipython",
    "version": 3
   },
   "file_extension": ".py",
   "mimetype": "text/x-python",
   "name": "python",
   "nbconvert_exporter": "python",
   "pygments_lexer": "ipython3",
   "version": "3.12.1"
  }
 },
 "nbformat": 4,
 "nbformat_minor": 2
}
